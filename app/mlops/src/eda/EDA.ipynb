{
 "cells": [
  {
   "cell_type": "markdown",
   "id": "55b793cd",
   "metadata": {},
   "source": [
    "# EDA for the Financial Product dataset"
   ]
  },
  {
   "cell_type": "code",
   "execution_count": null,
   "id": "2d23c2f5",
   "metadata": {},
   "outputs": [],
   "source": [
    "import sys\n",
    "!{sys.executable} -m pip install ipywidgets wandb pandas ydata_profiling"
   ]
  },
  {
   "cell_type": "code",
   "execution_count": 11,
   "id": "15432f4e-96b4-47fc-862a-0b1801e5fb9f",
   "metadata": {},
   "outputs": [],
   "source": [
    "import wandb\n",
    "import pandas as pd\n",
    "\n",
    "# retrieve the artifact from wandb and load it into a pandas dataframe\n",
    "run = wandb.init(project=\"financial-product-marketing-optimization\", group=\"eda\", save_code=True)\n",
    "artifact_local_path = wandb.use_artifact(\"sample.xlsx:latest\").file()\n",
    "df_demographics = pd.read_excel(artifact_local_path, sheet_name='Soc_Dem', index_col='Client')\n",
    "df_products = pd.read_excel(artifact_local_path, sheet_name='Products_ActBalance', index_col='Client')\n",
    "df_transactions = pd.read_excel(artifact_local_path, sheet_name='Inflow_Outflow', index_col='Client')\n",
    "df_sales = pd.read_excel(artifact_local_path, sheet_name='Sales_Revenues', index_col='Client')\n",
    "\n",
    "# merge the datasets\n",
    "df = pd.merge(df_demographics, df_products, left_index=True, right_index=True)\n",
    "df = pd.merge(df, df_transactions, left_index=True, right_index=True)\n",
    "df = pd.merge(df, df_sales, left_index=True, right_index=True)"
   ]
  },
  {
   "cell_type": "markdown",
   "id": "ec0732ca-0c66-4209-8aec-c55177a6c900",
   "metadata": {},
   "source": [
    "### Note: the pandas_profiling is replaced with ydata_profiling because of the compatibility issue with the version of pandas. Please view the results in the my_report.html"
   ]
  },
  {
   "cell_type": "code",
   "execution_count": 12,
   "id": "1daf3a66-24e9-4014-b141-32958e36c473",
   "metadata": {},
   "outputs": [],
   "source": [
    "import ydata_profiling\n",
    "\n",
    "profile = ydata_profiling.ProfileReport(df)\n",
    "# profile.to_widgets()"
   ]
  },
  {
   "cell_type": "code",
   "execution_count": 13,
   "id": "4a3d7a45-ac45-4531-bed5-8149a40d270f",
   "metadata": {},
   "outputs": [
    {
     "data": {
      "application/vnd.jupyter.widget-view+json": {
       "model_id": "99d396733d684ab7be910c9b67120e99",
       "version_major": 2,
       "version_minor": 0
      },
      "text/plain": [
       "Summarize dataset:   0%|          | 0/5 [00:00<?, ?it/s]"
      ]
     },
     "metadata": {},
     "output_type": "display_data"
    },
    {
     "data": {
      "application/vnd.jupyter.widget-view+json": {
       "model_id": "5c893977b8eb48dfa64ef2ce3cdb4248",
       "version_major": 2,
       "version_minor": 0
      },
      "text/plain": [
       "Generate report structure:   0%|          | 0/1 [00:00<?, ?it/s]"
      ]
     },
     "metadata": {},
     "output_type": "display_data"
    },
    {
     "data": {
      "application/vnd.jupyter.widget-view+json": {
       "model_id": "5d149f1c2c2c42d6a69a60d7148a30be",
       "version_major": 2,
       "version_minor": 0
      },
      "text/plain": [
       "Render HTML:   0%|          | 0/1 [00:00<?, ?it/s]"
      ]
     },
     "metadata": {},
     "output_type": "display_data"
    },
    {
     "data": {
      "application/vnd.jupyter.widget-view+json": {
       "model_id": "522adfc0d6b8425cb9dfee6991a9b15a",
       "version_major": 2,
       "version_minor": 0
      },
      "text/plain": [
       "Export report to file:   0%|          | 0/1 [00:00<?, ?it/s]"
      ]
     },
     "metadata": {},
     "output_type": "display_data"
    }
   ],
   "source": [
    "profile.to_file(\"my_report.html\")"
   ]
  },
  {
   "cell_type": "markdown",
   "id": "ce43ceb2",
   "metadata": {},
   "source": [
    "# Data cleaning"
   ]
  },
  {
   "cell_type": "code",
   "execution_count": 14,
   "id": "aa701b93-2177-4ac6-bc1f-0fd555a15b27",
   "metadata": {},
   "outputs": [],
   "source": [
    "# Drop outliers\n",
    "min_age = 0\n",
    "min_age = 110\n",
    "idx = df['Age'].between(min_age, min_age)\n",
    "df = df[idx].copy()\n",
    "\n",
    "min_tenure = 0\n",
    "max_tenure = 1320\n",
    "idx = df['Tenure'].between(min_tenure, max_tenure)\n",
    "df = df[idx].copy()"
   ]
  },
  {
   "cell_type": "code",
   "execution_count": 15,
   "id": "5b21b42d-f74c-4674-9112-f3f410e65db8",
   "metadata": {},
   "outputs": [
    {
     "name": "stdout",
     "output_type": "stream",
     "text": [
      "<class 'pandas.core.frame.DataFrame'>\n",
      "Index: 0 entries\n",
      "Data columns (total 35 columns):\n",
      " #   Column                        Non-Null Count  Dtype  \n",
      "---  ------                        --------------  -----  \n",
      " 0   Sex                           0 non-null      object \n",
      " 1   Age                           0 non-null      int64  \n",
      " 2   Tenure                        0 non-null      int64  \n",
      " 3   Count_CA                      0 non-null      int64  \n",
      " 4   Count_SA                      0 non-null      float64\n",
      " 5   Count_MF                      0 non-null      float64\n",
      " 6   Count_OVD                     0 non-null      float64\n",
      " 7   Count_CC                      0 non-null      float64\n",
      " 8   Count_CL                      0 non-null      float64\n",
      " 9   ActBal_CA                     0 non-null      float64\n",
      " 10  ActBal_SA                     0 non-null      float64\n",
      " 11  ActBal_MF                     0 non-null      float64\n",
      " 12  ActBal_OVD                    0 non-null      float64\n",
      " 13  ActBal_CC                     0 non-null      float64\n",
      " 14  ActBal_CL                     0 non-null      float64\n",
      " 15  VolumeCred                    0 non-null      float64\n",
      " 16  VolumeCred_CA                 0 non-null      float64\n",
      " 17  TransactionsCred              0 non-null      int64  \n",
      " 18  TransactionsCred_CA           0 non-null      int64  \n",
      " 19  VolumeDeb                     0 non-null      float64\n",
      " 20  VolumeDeb_CA                  0 non-null      float64\n",
      " 21  VolumeDebCash_Card            0 non-null      float64\n",
      " 22  VolumeDebCashless_Card        0 non-null      float64\n",
      " 23  VolumeDeb_PaymentOrder        0 non-null      float64\n",
      " 24  TransactionsDeb               0 non-null      int64  \n",
      " 25  TransactionsDeb_CA            0 non-null      int64  \n",
      " 26  TransactionsDebCash_Card      0 non-null      int64  \n",
      " 27  TransactionsDebCashless_Card  0 non-null      int64  \n",
      " 28  TransactionsDeb_PaymentOrder  0 non-null      int64  \n",
      " 29  Sale_MF                       0 non-null      int64  \n",
      " 30  Sale_CC                       0 non-null      int64  \n",
      " 31  Sale_CL                       0 non-null      int64  \n",
      " 32  Revenue_MF                    0 non-null      float64\n",
      " 33  Revenue_CC                    0 non-null      float64\n",
      " 34  Revenue_CL                    0 non-null      float64\n",
      "dtypes: float64(21), int64(13), object(1)\n",
      "memory usage: 0.0+ bytes\n"
     ]
    }
   ],
   "source": [
    "df.info()"
   ]
  },
  {
   "cell_type": "code",
   "execution_count": null,
   "id": "57f3c785-d56d-4e08-8a55-a9ed0fa7a2cf",
   "metadata": {},
   "outputs": [],
   "source": []
  }
 ],
 "metadata": {
  "kernelspec": {
   "display_name": "nb-marketoptimization-py39",
   "language": "python",
   "name": "nb-marketoptimization-py39"
  },
  "language_info": {
   "codemirror_mode": {
    "name": "ipython",
    "version": 3
   },
   "file_extension": ".py",
   "mimetype": "text/x-python",
   "name": "python",
   "nbconvert_exporter": "python",
   "pygments_lexer": "ipython3",
   "version": "3.9.17"
  }
 },
 "nbformat": 4,
 "nbformat_minor": 5
}
